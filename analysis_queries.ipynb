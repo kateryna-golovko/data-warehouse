{
 "cells": [
  {
   "cell_type": "markdown",
   "metadata": {},
   "source": [
    "# Analysis Queries"
   ]
  },
  {
   "cell_type": "markdown",
   "metadata": {},
   "source": [
    "A list of queries for analysis of the completed star schema."
   ]
  },
  {
   "cell_type": "code",
   "execution_count": null,
   "metadata": {
    "vscode": {
     "languageId": "plaintext"
    }
   },
   "outputs": [],
   "source": [
    "# Install necessary packages\n",
    "!pip install ipython-sql"
   ]
  },
  {
   "cell_type": "code",
   "execution_count": null,
   "metadata": {
    "vscode": {
     "languageId": "plaintext"
    }
   },
   "outputs": [],
   "source": [
    "# Load the SQL extension\n",
    "%load_ext sql"
   ]
  },
  {
   "cell_type": "markdown",
   "metadata": {},
   "source": [
    "## Query 1"
   ]
  },
  {
   "cell_type": "markdown",
   "metadata": {},
   "source": [
    "### How many songs does an average user listens per session?\n",
    "\n",
    "Below query consists of outer query that uses FROM clause to get grouped data from inner query. The inner query counts songs per session for each user, and then the outer query takes an average from the count list."
   ]
  },
  {
   "cell_type": "code",
   "execution_count": null,
   "metadata": {
    "vscode": {
     "languageId": "plaintext"
    }
   },
   "outputs": [],
   "source": [
    "%%sql \n",
    "SELECT AVG(counts_per_session) AS avg_count\n",
    "FROM (\n",
    "    SELECT session_id,\n",
    "    count(*) AS counts_per_session\n",
    "    FROM songplays\n",
    "    GROUP BY session_id\n",
    ") AS avg_session_count"
   ]
  },
  {
   "cell_type": "markdown",
   "metadata": {},
   "source": [
    "## Query 2"
   ]
  },
  {
   "cell_type": "markdown",
   "metadata": {},
   "source": [
    "### What are the top 5 songs among all users?"
   ]
  },
  {
   "cell_type": "code",
   "execution_count": null,
   "metadata": {
    "vscode": {
     "languageId": "plaintext"
    }
   },
   "outputs": [],
   "source": [
    "%%sql\n",
    "SELECT s.song_id,\n",
    "s.title,\n",
    "COUNT(sp.song_id) AS song_counts\n",
    "FROM song s\n",
    "JOIN songplays sp\n",
    "ON s.song_id=sp.song_id\n",
    "GROUP BY s.song_id, s.title\n",
    "ORDER BY COUNT(sp.song_id) DESC\n",
    "LIMIT 5"
   ]
  },
  {
   "cell_type": "markdown",
   "metadata": {},
   "source": [
    "## Query 3"
   ]
  },
  {
   "cell_type": "markdown",
   "metadata": {},
   "source": [
    "### What are top 3 artists?"
   ]
  },
  {
   "cell_type": "code",
   "execution_count": null,
   "metadata": {
    "vscode": {
     "languageId": "plaintext"
    }
   },
   "outputs": [],
   "source": [
    "%%sql\n",
    "SELECT a.artist_id,\n",
    "a.name,\n",
    "COUNT(sp.artist_id) AS popularity_count\n",
    "FROM artist a\n",
    "JOIN songplays sp\n",
    "ON a.artist_id=sp.artist_id\n",
    "GROUP BY a.artist_id, a.name\n",
    "ORDER BY COUNT(sp.artist_id) DESC\n",
    "LIMIT 3"
   ]
  }
 ],
 "metadata": {
  "language_info": {
   "name": "python"
  }
 },
 "nbformat": 4,
 "nbformat_minor": 2
}
